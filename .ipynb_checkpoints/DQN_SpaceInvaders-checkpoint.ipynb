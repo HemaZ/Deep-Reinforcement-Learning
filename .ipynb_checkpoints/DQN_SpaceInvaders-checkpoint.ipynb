{
 "cells": [
  {
   "cell_type": "markdown",
   "metadata": {
    "colab_type": "text",
    "id": "view-in-github"
   },
   "source": [
    "<a href=\"https://colab.research.google.com/github/HemaZ/Deep-Reinforcement-Learning/blob/master/DQN_SpaceInvaders.ipynb\" target=\"_parent\"><img src=\"https://colab.research.google.com/assets/colab-badge.svg\" alt=\"Open In Colab\"/></a>"
   ]
  },
  {
   "cell_type": "code",
   "execution_count": 1,
   "metadata": {
    "colab": {
     "base_uri": "https://localhost:8080/",
     "height": 1981
    },
    "colab_type": "code",
    "id": "5QbuUFdbI7zg",
    "outputId": "68f99a8e-8511-4bce-9592-31152a7bd535"
   },
   "outputs": [
    {
     "name": "stdout",
     "output_type": "stream",
     "text": [
      "--2019-01-05 12:58:41--  http://www.atarimania.com/roms/Roms.rar\n",
      "Resolving www.atarimania.com (www.atarimania.com)... 195.154.81.199\n",
      "Connecting to www.atarimania.com (www.atarimania.com)|195.154.81.199|:80... connected.\n",
      "HTTP request sent, awaiting response... 200 OK\n",
      "Length: 10823448 (10M) [application/x-rar-compressed]\n",
      "Saving to: ‘Roms.rar.3’\n",
      "\n",
      "Roms.rar.3          100%[===================>]  10.32M   456KB/s    in 24s     \n",
      "\n",
      "2019-01-05 12:59:05 (445 KB/s) - ‘Roms.rar.3’ saved [10823448/10823448]\n",
      "\n",
      "\n",
      "UNRAR 5.50 freeware      Copyright (c) 1993-2017 Alexander Roshal\n",
      "\n",
      "\n",
      "Extracting from Roms.rar\n",
      "\n",
      "\n",
      "Would you like to replace the existing file Roms/HC ROMS.zip\n",
      "11729845 bytes, modified on 2018-12-24 16:58\n",
      "with a new one\n",
      "11729845 bytes, modified on 2018-12-24 16:58\n",
      "\n",
      "[Y]es, [N]o, [A]ll, n[E]ver, [R]ename, [Q]uit E\n",
      "\n",
      "All OK\n",
      "Archive:  Roms/ROMS.zip\n",
      "replace ROMS/128 in 1 Game Select ROM (128 in 1) (Unknown) ~.bin? [y]es, [n]o, [A]ll, [N]one, [r]ename: N\n",
      "Requirement already satisfied: gym-retro in /usr/local/lib/python3.6/dist-packages (0.6.0)\n",
      "Requirement already satisfied: gym in /usr/local/lib/python3.6/dist-packages (from gym-retro) (0.10.9)\n",
      "Requirement already satisfied: scipy in /usr/local/lib/python3.6/dist-packages (from gym->gym-retro) (1.1.0)\n",
      "Requirement already satisfied: numpy>=1.10.4 in /usr/local/lib/python3.6/dist-packages (from gym->gym-retro) (1.14.6)\n",
      "Requirement already satisfied: requests>=2.0 in /usr/local/lib/python3.6/dist-packages (from gym->gym-retro) (2.18.4)\n",
      "Requirement already satisfied: six in /usr/local/lib/python3.6/dist-packages (from gym->gym-retro) (1.11.0)\n",
      "Requirement already satisfied: pyglet>=1.2.0 in /usr/local/lib/python3.6/dist-packages (from gym->gym-retro) (1.3.2)\n",
      "Requirement already satisfied: idna<2.7,>=2.5 in /usr/local/lib/python3.6/dist-packages (from requests>=2.0->gym->gym-retro) (2.6)\n",
      "Requirement already satisfied: chardet<3.1.0,>=3.0.2 in /usr/local/lib/python3.6/dist-packages (from requests>=2.0->gym->gym-retro) (3.0.4)\n",
      "Requirement already satisfied: urllib3<1.23,>=1.21.1 in /usr/local/lib/python3.6/dist-packages (from requests>=2.0->gym->gym-retro) (1.22)\n",
      "Requirement already satisfied: certifi>=2017.4.17 in /usr/local/lib/python3.6/dist-packages (from requests>=2.0->gym->gym-retro) (2018.11.29)\n",
      "Requirement already satisfied: future in /usr/local/lib/python3.6/dist-packages (from pyglet>=1.2.0->gym->gym-retro) (0.16.0)\n",
      "Importing 1904 potential games...\n",
      "Importing Freeway-Atari2600\n",
      "Importing Pitfall-Atari2600\n",
      "Importing NameThisGame-Atari2600\n",
      "Importing Asteroids-Atari2600\n",
      "Importing Bowling-Atari2600\n",
      "Importing Zaxxon-Atari2600\n",
      "Importing Robotank-Atari2600\n",
      "Importing Kangaroo-Atari2600\n",
      "Importing Tutankham-Atari2600\n",
      "Importing DoubleDunk-Atari2600\n",
      "Importing MsPacman-Atari2600\n",
      "Importing Skiing-Atari2600\n",
      "Importing DemonAttack-Atari2600\n",
      "Importing RoadRunner-Atari2600\n",
      "Importing Berzerk-Atari2600\n",
      "Importing Gopher-Atari2600\n",
      "Importing Breakout-Atari2600\n",
      "Importing Riverraid-Atari2600\n",
      "Importing Assault-Atari2600\n",
      "Importing MontezumaRevenge-Atari2600\n",
      "Importing Defender-Atari2600\n",
      "Importing Pooyan-Atari2600\n",
      "Importing Assault-Atari2600\n",
      "Importing PrivateEye-Atari2600\n",
      "Importing Qbert-Atari2600\n",
      "Importing Centipede-Atari2600\n",
      "Importing Gravitar-Atari2600\n",
      "Importing Assault-Atari2600\n",
      "Importing Asterix-Atari2600\n",
      "Importing Phoenix-Atari2600\n",
      "Importing UpNDown-Atari2600\n",
      "Importing Frostbite-Atari2600\n",
      "Importing VideoPinball-Atari2600\n",
      "Importing FishingDerby-Atari2600\n",
      "Importing ChopperCommand-Atari2600\n",
      "Importing Alien-Atari2600\n",
      "Importing AirRaid-Atari2600\n",
      "Importing TimePilot-Atari2600\n",
      "Importing Qbert-Atari2600\n",
      "Importing Jamesbond-Atari2600\n",
      "Importing Hero-Atari2600\n",
      "Importing YarsRevenge-Atari2600\n",
      "Importing Adventure-Atari2600\n",
      "Importing Venture-Atari2600\n",
      "Importing KungFuMaster-Atari2600\n",
      "Importing SpaceInvaders-Atari2600\n",
      "Importing Atlantis-Atari2600\n",
      "Importing WizardOfWor-Atari2600\n",
      "Importing Amidar-Atari2600\n",
      "Importing BankHeist-Atari2600\n",
      "Importing Qbert-Atari2600\n",
      "Importing Enduro-Atari2600\n",
      "Importing Seaquest-Atari2600\n",
      "Importing BeamRider-Atari2600\n",
      "Importing Carnival-Atari2600\n",
      "Importing Kaboom-Atari2600\n",
      "Importing JourneyEscape-Atari2600\n",
      "Importing Tennis-Atari2600\n",
      "Importing Pong-Atari2600\n",
      "Importing CrazyClimber-Atari2600\n",
      "Importing BattleZone-Atari2600\n",
      "Importing Solaris-Atari2600\n",
      "Importing IceHockey-Atari2600\n",
      "Importing Krull-Atari2600\n",
      "Importing Boxing-Atari2600\n",
      "Importing StarGunner-Atari2600\n",
      "Imported 66 games\n"
     ]
    }
   ],
   "source": [
    "## Let's install all the requirements and prepare the Atari Environment \n",
    "\n",
    "! wget http://www.atarimania.com/roms/Roms.rar && unrar x Roms.rar && unzip Roms/ROMS.zip\n",
    "! pip3 install gym-retro\n",
    "! python3 -m retro.import ROMS/"
   ]
  },
  {
   "cell_type": "code",
   "execution_count": 0,
   "metadata": {
    "colab": {},
    "colab_type": "code",
    "id": "-58hxRSyFe3Z"
   },
   "outputs": [],
   "source": [
    "import tensorflow as tf\n",
    "import numpy as np\n",
    "import retro                 # Retro Environment\n",
    "import random\n",
    "from skimage import transform # Help us to preprocess the frames\n",
    "from skimage.color import rgb2gray # Help us to gray our frames\n",
    "\n",
    "import matplotlib.pyplot as plt # Display graphs\n",
    "\n",
    "from collections import deque # Ordered collection with ends\n",
    "\n"
   ]
  },
  {
   "cell_type": "code",
   "execution_count": 0,
   "metadata": {
    "colab": {},
    "colab_type": "code",
    "id": "Apw4X9UgM44o"
   },
   "outputs": [],
   "source": [
    "class GameEnv:\n",
    "  \"\"\"\n",
    "  This Class creates Atari Game Enivroment and provides some preprocessing functions.\n",
    "  \"\"\"\n",
    "  \n",
    "  def __init__(self, game = 'SpaceInvaders-Atari2600'):\n",
    "    self.env = retro.make(game)\n",
    "    self.n_actions = self.env.action_space.n\n",
    "    self.frame_size = self.env.observation_space.shape\n",
    "    self.hot_enc_actions = np.array(np.identity(self.n_actions).tolist()) \n",
    "    self.stack_size = 4\n",
    "    self.stacked_frames = deque([np.zeros((110,84), dtype=np.int) for i in range(self.stack_size)], maxlen=self.stack_size)\n",
    "    self.hyperparameters = {\n",
    "                           'learning_rate' : 0.00025,\n",
    "                           'total_episodes' : 500,\n",
    "                           'max_steps' : 5000,\n",
    "                           'btach_size': 64,\n",
    "                           'explore_start' : 1,\n",
    "                           'explore_end' : 0.01,\n",
    "                           'decay_rate' : 0.00001,\n",
    "                           'gamma' : 0.9,\n",
    "                           'pretrain_length' : 64,\n",
    "                           'memory_size' : 1000000,\n",
    "                           'state_size' : [110, 84, 4]\n",
    "                           }\n",
    "    self.training = False\n",
    "    self.render = False\n",
    "    \n",
    "    \n",
    "    \n",
    "    \n",
    "  def _preprocess_frame(self,frame):\n",
    "    gray_frame = rgb2gray(frame)\n",
    "    cropped_frame = gray_frame[8:-12,4:-12]\n",
    "    \n",
    "    # Normalize Pixel Values\n",
    "    normalized_frame = cropped_frame/255.0\n",
    "    \n",
    "    # Resize\n",
    "    # Thanks to Mikołaj Walkowiak\n",
    "    preprocessed_frame = transform.resize(normalized_frame, [110,84])\n",
    "    \n",
    "    return preprocessed_frame # 110x84x1 frame\n",
    "  \n",
    "  def stack_frame(self, state, new_epis = False):\n",
    "    \n",
    "    frame = self._preprocess_frame(state)\n",
    "    \n",
    "    if new_epis:\n",
    "      self.stacked_frames  =  deque([frame for _ in range(self.stack_size)], maxlen=self.stack_size)\n",
    "    else:\n",
    "      self.stacked_frames.append(frame)\n",
    "    \n",
    "    self.stacked_state = np.stack(self.stacked_frames, axis=2)\n",
    "    return self.stacked_state  \n",
    "    \n",
    "    "
   ]
  },
  {
   "cell_type": "code",
   "execution_count": 0,
   "metadata": {
    "colab": {},
    "colab_type": "code",
    "id": "dwXpTh-0yvBq"
   },
   "outputs": [],
   "source": [
    "class DeepQNN:\n",
    "  \n",
    "  def __init__(self, gamenv):\n",
    "    self.gamenv = gamenv\n",
    "    self.decay_step = 0\n",
    "    with tf.variable_scope('DQNN'):\n",
    "      self._inputs = tf.placeholder(tf.float32, [None, *self.gamenv.hyperparameters['state_size']], name='inputs')\n",
    "      self._actions = tf.placeholder(tf.float32, [None, self.gamenv.n_actions], name='actions')\n",
    "      self.target_Q = tf.placeholder(tf.float32, [None], name=\"target\")\n",
    "      \n",
    "      self.conv1 = tf.layers.conv2d(inputs = self._inputs, \n",
    "                                    filters = 32,\n",
    "                                    kernel_size = [8,8],\n",
    "                                    strides = [4,4],\n",
    "                                    padding = 'VALID',\n",
    "                                    kernel_initializer=tf.contrib.layers.xavier_initializer_conv2d(),\n",
    "                                    name = 'Conv1')\n",
    "      self.actvf1 = tf.nn.elu(self.conv1, name='Elu1')\n",
    "      \n",
    "      self.conv2 = tf.layers.conv2d(inputs = self.conv1, \n",
    "                                    filters = 64,\n",
    "                                    kernel_size = [4,4],\n",
    "                                    strides = [2,2],\n",
    "                                    padding = 'VALID',\n",
    "                                    kernel_initializer=tf.contrib.layers.xavier_initializer_conv2d(),\n",
    "                                    name = 'Conv2')\n",
    "      self.actvf2 = tf.nn.elu(self.conv2, name='Elu2')\n",
    "      \n",
    "      self.conv3 = tf.layers.conv2d(inputs = self.conv2, \n",
    "                                    filters = 64,\n",
    "                                    kernel_size = [3,3],\n",
    "                                    strides = [2,2],\n",
    "                                    padding = 'VALID',\n",
    "                                    kernel_initializer=tf.contrib.layers.xavier_initializer_conv2d(),\n",
    "                                    name = 'Conv3')\n",
    "      self.actvf3 = tf.nn.elu(self.conv3, name='Elu3')\n",
    "      \n",
    "      self.flatten = tf.contrib.layers.flatten(self.actvf3)\n",
    "      self.fc = tf.layers.dense(inputs = self.flatten,\n",
    "                                units = 512,\n",
    "                                activation = tf.nn.elu,\n",
    "                                kernel_initializer=tf.contrib.layers.xavier_initializer(),\n",
    "                                name=\"fc1\")\n",
    "            \n",
    "      self.output = tf.layers.dense(inputs = self.fc, \n",
    "                                   kernel_initializer=tf.contrib.layers.xavier_initializer(),\n",
    "                                   units = self.gamenv.n_actions, \n",
    "                                   activation=None)\n",
    "      self.Q = tf.reduce_sum(tf.multiply(self.output, self._actions))\n",
    "            \n",
    "            # The loss is the difference between our predicted Q_values and the Q_target\n",
    "            # Sum(Qtarget - Q)^2\n",
    "      self.loss = tf.reduce_mean(tf.square(self.target_Q - self.Q))\n",
    "            \n",
    "      self.optimizer = tf.train.AdamOptimizer(self.gamenv.hyperparameters['learning_rate']).minimize(self.loss)\n",
    "      \n",
    "      \n",
    "  def predict_action(self, state, sess):\n",
    "    hyperp = self.gamenv.hyperparameters\n",
    "    explore_probability = hyperp['explore_end'] + (hyperp['explore_start'] - hyperp['explore_end']) * np.exp(-hyperp['decay_rate'] * self.decay_step)\n",
    "    \n",
    "    if explore_probability > np.random.rand():\n",
    "      action = self.gamenv.hot_enc_actions[random.randint(0,self.gamenv.n_actions-1)]\n",
    "      \n",
    "    else:\n",
    "      Qs = sess.run(self.output,feed_dict = {self._inputs:state.reshape((1,*state.shape))})\n",
    "      action = self.gamenv.hot_enc_actions[np.argmax(Qs)]\n",
    "      \n",
    "    return action, explore_probability\n",
    "    \n",
    "    \n",
    "    \n",
    "    \n",
    "    \n",
    "    \n",
    "    \n",
    "    "
   ]
  },
  {
   "cell_type": "code",
   "execution_count": 0,
   "metadata": {
    "colab": {},
    "colab_type": "code",
    "id": "_GoUI0Ek7RNo"
   },
   "outputs": [],
   "source": [
    "class Memory:\n",
    "  def __init__(self, max_size):\n",
    "    self.buffer = deque(maxlen = max_size)\n",
    "    \n",
    "  def add(self, experience):\n",
    "    self.buffer.append(experience)\n",
    "    \n",
    "  def sample(self, batch_size):\n",
    "    buffer_len = len(self.buffer)\n",
    "    index = np.random.choice(np.arange(buffer_len), size = batch_size, replace = False)\n",
    "    return [self.buffer[i] for i in index]"
   ]
  },
  {
   "cell_type": "code",
   "execution_count": 0,
   "metadata": {
    "colab": {},
    "colab_type": "code",
    "id": "m4KiSzPrCAGB"
   },
   "outputs": [],
   "source": [
    "def pre_populate_memory(memory, gamenv):\n",
    "  state = gamenv.env.reset()\n",
    "  state = gamenv.stack_frame(state,new_epis = True)\n",
    "  for i in range(gamenv.hyperparameters['btach_size']):\n",
    "    action = gamenv.hot_enc_actions[random.randint(0,gamenv.n_actions-1)]\n",
    "    next_state, reward, done, info = gamenv.env.step(action)\n",
    "    next_state = gamenv.stack_frame(next_state, new_epis = False)\n",
    "    if done:\n",
    "      next_state = np.zeros(next_state.shape)\n",
    "      memory.add((state, action, reward, next_state, done))\n",
    "      state = gamenv.env.reset()\n",
    "      state = gamenv.stack_frame(state,new_epis = True)\n",
    "    else:\n",
    "      memory.add((state, action, reward, next_state, done))\n",
    "      state = next_state\n",
    "  return memory\n",
    "    "
   ]
  },
  {
   "cell_type": "code",
   "execution_count": 0,
   "metadata": {
    "colab": {},
    "colab_type": "code",
    "id": "Ocsvpr9UylOD"
   },
   "outputs": [],
   "source": []
  },
  {
   "cell_type": "code",
   "execution_count": 0,
   "metadata": {
    "colab": {},
    "colab_type": "code",
    "id": "aL3io1jWzU2V"
   },
   "outputs": [],
   "source": [
    "tf.reset_default_graph()\n",
    "spaceinvaders = GameEnv()\n",
    "# spaceinvaders.training = True\n",
    "dqnn = DeepQNN(spaceinvaders)\n",
    "memory = Memory(spaceinvaders.hyperparameters['memory_size'])\n"
   ]
  },
  {
   "cell_type": "code",
   "execution_count": 8,
   "metadata": {
    "colab": {
     "base_uri": "https://localhost:8080/",
     "height": 73
    },
    "colab_type": "code",
    "id": "sAcPUwSFjUuw",
    "outputId": "cf3a4dbd-6c61-4c47-8f12-4b2ffab5297e"
   },
   "outputs": [
    {
     "name": "stderr",
     "output_type": "stream",
     "text": [
      "/usr/local/lib/python3.6/dist-packages/skimage/transform/_warps.py:84: UserWarning: The default mode, 'constant', will be changed to 'reflect' in skimage 0.15.\n",
      "  warn(\"The default mode, 'constant', will be changed to 'reflect' in \"\n"
     ]
    }
   ],
   "source": [
    "memory = pre_populate_memory(memory, spaceinvaders)"
   ]
  },
  {
   "cell_type": "code",
   "execution_count": 0,
   "metadata": {
    "colab": {},
    "colab_type": "code",
    "id": "EUVbbSQzoKVt"
   },
   "outputs": [],
   "source": [
    "# Setup TensorBoard Writer\n",
    "writer = tf.summary.FileWriter(\"./tensorboard/dqn/1\")\n",
    "\n",
    "## Losses\n",
    "tf.summary.scalar(\"Loss\", dqnn.loss)\n",
    "\n",
    "write_op = tf.summary.merge_all()"
   ]
  },
  {
   "cell_type": "code",
   "execution_count": 0,
   "metadata": {
    "colab": {},
    "colab_type": "code",
    "id": "2QkjnfTro7sg"
   },
   "outputs": [],
   "source": [
    "# Saver will help us to save our model\n",
    "saver = tf.train.Saver()\n",
    "hyperp = spaceinvaders.hyperparameters\n",
    "rewards_list = []\n",
    "if spaceinvaders.training == True:\n",
    "    with tf.Session() as sess:\n",
    "        saver.restore(sess, \"./models/model.ckpt\")\n",
    "        # Initialize the variables\n",
    "        sess.run(tf.global_variables_initializer())\n",
    "\n",
    "        # Initialize the decay rate (that will use to reduce epsilon) \n",
    "#         decay_step = 0\n",
    "        \n",
    "        for episode in range(hyperp['total_episodes']):\n",
    "            # Set step to 0\n",
    "            step = 0\n",
    "            \n",
    "            # Initialize the rewards of the episode\n",
    "            episode_rewards = []\n",
    "            \n",
    "            # Make a new episode and observe the first state\n",
    "            state = spaceinvaders.env.reset()\n",
    "            \n",
    "            # Remember that stack frame function also call our preprocess function.\n",
    "            state = spaceinvaders.stack_frame(state, True)\n",
    "            \n",
    "            while step < hyperp['max_steps']:\n",
    "                step += 1\n",
    "                \n",
    "                #Increase decay_step\n",
    "                dqnn.decay_step +=1\n",
    "                \n",
    "                # Predict the action to take and take it\n",
    "                action, explore_probability = dqnn.predict_action(state, sess)\n",
    "                \n",
    "                #Perform the action and get the next_state, reward, and done information\n",
    "                next_state, reward, done, _ = spaceinvaders.env.step(action)\n",
    "                \n",
    "                if spaceinvaders.render:\n",
    "                    env.render()\n",
    "                \n",
    "                # Add the reward to total reward\n",
    "                episode_rewards.append(reward)\n",
    "                \n",
    "                # If the game is finished\n",
    "                if done:\n",
    "                    # The episode ends so no next state\n",
    "                    next_state = np.zeros((110,84), dtype=np.int)\n",
    "                    \n",
    "                    next_state = spaceinvaders.stack_frame(next_state, False)\n",
    "\n",
    "                    # Set step = max_steps to end the episode\n",
    "                    step = hyperp['max_steps']\n",
    "\n",
    "                    # Get the total reward of the episode\n",
    "                    total_reward = np.sum(episode_rewards)\n",
    "\n",
    "                    print('Episode: {}'.format(episode),\n",
    "                                  'Total reward: {}'.format(total_reward),\n",
    "                                  'Explore P: {:.4f}'.format(explore_probability),\n",
    "                                'Training Loss {:.4f}'.format(loss))\n",
    "\n",
    "                    rewards_list.append((episode, total_reward))\n",
    "\n",
    "                    # Store transition <st,at,rt+1,st+1> in memory D\n",
    "                    memory.add((state, action, reward, next_state, done))\n",
    "\n",
    "                else:\n",
    "                    # Stack the frame of the next_state\n",
    "                    next_state = spaceinvaders.stack_frame(next_state, False)\n",
    "                \n",
    "                    # Add experience to memory\n",
    "                    memory.add((state, action, reward, next_state, done))\n",
    "\n",
    "                    # st+1 is now our current state\n",
    "                    state = next_state\n",
    "                    \n",
    "\n",
    "                ### LEARNING PART            \n",
    "                # Obtain random mini-batch from memory\n",
    "                batch = memory.sample(hyperp['btach_size'])\n",
    "                states_mb = np.array([each[0] for each in batch], ndmin=3)\n",
    "                actions_mb = np.array([each[1] for each in batch])\n",
    "                rewards_mb = np.array([each[2] for each in batch]) \n",
    "                next_states_mb = np.array([each[3] for each in batch], ndmin=3)\n",
    "                dones_mb = np.array([each[4] for each in batch])\n",
    "\n",
    "                target_Qs_batch = []\n",
    "\n",
    "                # Get Q values for next_state \n",
    "                Qs_next_state = sess.run(dqnn.output, feed_dict = {dqnn._inputs: next_states_mb})\n",
    "                \n",
    "                # Set Q_target = r if the episode ends at s+1, otherwise set Q_target = r + gamma*maxQ(s', a')\n",
    "                for i in range(0, len(batch)):\n",
    "                    terminal = dones_mb[i]\n",
    "\n",
    "                    # If we are in a terminal state, only equals reward\n",
    "                    if terminal:\n",
    "                        target_Qs_batch.append(rewards_mb[i])\n",
    "                        \n",
    "                    else:\n",
    "                        target = rewards_mb[i] + hyperp['gamma'] * np.max(Qs_next_state[i])\n",
    "                        target_Qs_batch.append(target)\n",
    "                        \n",
    "\n",
    "                targets_mb = np.array([each for each in target_Qs_batch])\n",
    "\n",
    "                loss, _ = sess.run([dqnn.loss, dqnn.optimizer],\n",
    "                                        feed_dict={dqnn._inputs: states_mb,\n",
    "                                                   dqnn.target_Q: targets_mb,\n",
    "                                                   dqnn._actions: actions_mb})\n",
    "\n",
    "                # Write TF Summaries\n",
    "                summary = sess.run(write_op, feed_dict={dqnn._inputs: states_mb,\n",
    "                                                       dqnn.target_Q: targets_mb,\n",
    "                                                       dqnn._actions: actions_mb})\n",
    "                writer.add_summary(summary, episode)\n",
    "                writer.flush()\n",
    "\n",
    "            # Save model every 5 episodes\n",
    "            if episode % 5 == 0:\n",
    "                save_path = saver.save(sess, \"./models/model.ckpt\")\n",
    "                print(\"Model Saved\")"
   ]
  },
  {
   "cell_type": "code",
   "execution_count": 11,
   "metadata": {
    "colab": {
     "base_uri": "https://localhost:8080/",
     "height": 107
    },
    "colab_type": "code",
    "id": "3a1fFNLUmz9i",
    "outputId": "7e5e34e2-992d-451e-96a8-2d71c965d60f"
   },
   "outputs": [
    {
     "name": "stdout",
     "output_type": "stream",
     "text": [
      "updating: models/ (stored 0%)\n",
      "updating: models/model.ckpt.meta (deflated 88%)\n",
      "updating: models/checkpoint (deflated 42%)\n",
      "updating: models/model.ckpt.index (deflated 49%)\n",
      "updating: models/model.ckpt.data-00000-of-00001 (deflated 8%)\n"
     ]
    }
   ],
   "source": [
    "!zip -r models.zip models/"
   ]
  },
  {
   "cell_type": "code",
   "execution_count": 12,
   "metadata": {
    "colab": {
     "base_uri": "https://localhost:8080/",
     "height": 71
    },
    "colab_type": "code",
    "id": "DgGvWHkL7SU1",
    "outputId": "c863a1b9-39fa-40ad-f278-97c6c93d118d"
   },
   "outputs": [
    {
     "name": "stdout",
     "output_type": "stream",
     "text": [
      "total 47M\n",
      "4.0K models\t 4.0K Roms   11M Roms.rar     11M Roms.rar.2  4.0K sample_data\n",
      "7.8M models.zip  232K ROMS  7.4M Roms.rar.1   11M Roms.rar.3  4.0K tensorboard\n"
     ]
    }
   ],
   "source": [
    "!ls -sh"
   ]
  },
  {
   "cell_type": "code",
   "execution_count": 13,
   "metadata": {
    "colab": {
     "base_uri": "https://localhost:8080/",
     "height": 35
    },
    "colab_type": "code",
    "id": "oBpyeYk-8Buo",
    "outputId": "7a317f75-a833-4819-ed2e-91027bc7e4de"
   },
   "outputs": [
    {
     "name": "stdout",
     "output_type": "stream",
     "text": [
      "\u001b[0m\u001b[01;34mdqn\u001b[0m/\n"
     ]
    }
   ],
   "source": [
    "ls tensorboard/"
   ]
  },
  {
   "cell_type": "code",
   "execution_count": 17,
   "metadata": {
    "colab": {
     "base_uri": "https://localhost:8080/",
     "height": 388
    },
    "colab_type": "code",
    "id": "J_9xZvkv8FG1",
    "outputId": "9209f661-cb64-495f-dbaf-14a3c03a3c7c"
   },
   "outputs": [
    {
     "name": "stdout",
     "output_type": "stream",
     "text": [
      "INFO:tensorflow:Restoring parameters from ./models/model.ckpt\n"
     ]
    },
    {
     "ename": "AttributeError",
     "evalue": "ignored",
     "output_type": "error",
     "traceback": [
      "\u001b[0;31m---------------------------------------------------------------------------\u001b[0m",
      "\u001b[0;31mAttributeError\u001b[0m                            Traceback (most recent call last)",
      "\u001b[0;32m<ipython-input-17-562f0e471063>\u001b[0m in \u001b[0;36m<module>\u001b[0;34m()\u001b[0m\n\u001b[1;32m      8\u001b[0m         \u001b[0mtotal_rewards\u001b[0m \u001b[0;34m=\u001b[0m \u001b[0;36m0\u001b[0m\u001b[0;34m\u001b[0m\u001b[0;34m\u001b[0m\u001b[0m\n\u001b[1;32m      9\u001b[0m \u001b[0;34m\u001b[0m\u001b[0m\n\u001b[0;32m---> 10\u001b[0;31m         \u001b[0mstate\u001b[0m \u001b[0;34m=\u001b[0m \u001b[0mspaceinvaders\u001b[0m\u001b[0;34m.\u001b[0m\u001b[0menv\u001b[0m\u001b[0;34m.\u001b[0m\u001b[0mreset\u001b[0m\u001b[0;34m(\u001b[0m\u001b[0;34m)\u001b[0m\u001b[0;34m\u001b[0m\u001b[0;34m\u001b[0m\u001b[0m\n\u001b[0m\u001b[1;32m     11\u001b[0m         \u001b[0mstate\u001b[0m \u001b[0;34m=\u001b[0m \u001b[0mspaceinvaders\u001b[0m\u001b[0;34m.\u001b[0m\u001b[0mstack_frame\u001b[0m\u001b[0;34m(\u001b[0m\u001b[0mstate\u001b[0m\u001b[0;34m,\u001b[0m \u001b[0;32mTrue\u001b[0m\u001b[0;34m)\u001b[0m\u001b[0;34m\u001b[0m\u001b[0;34m\u001b[0m\u001b[0m\n\u001b[1;32m     12\u001b[0m \u001b[0;34m\u001b[0m\u001b[0m\n",
      "\u001b[0;32m/usr/local/lib/python3.6/dist-packages/retro/retro_env.py\u001b[0m in \u001b[0;36mreset\u001b[0;34m(self)\u001b[0m\n\u001b[1;32m    199\u001b[0m     \u001b[0;32mdef\u001b[0m \u001b[0mreset\u001b[0m\u001b[0;34m(\u001b[0m\u001b[0mself\u001b[0m\u001b[0;34m)\u001b[0m\u001b[0;34m:\u001b[0m\u001b[0;34m\u001b[0m\u001b[0;34m\u001b[0m\u001b[0m\n\u001b[1;32m    200\u001b[0m         \u001b[0;32mif\u001b[0m \u001b[0mself\u001b[0m\u001b[0;34m.\u001b[0m\u001b[0minitial_state\u001b[0m\u001b[0;34m:\u001b[0m\u001b[0;34m\u001b[0m\u001b[0;34m\u001b[0m\u001b[0m\n\u001b[0;32m--> 201\u001b[0;31m             \u001b[0mself\u001b[0m\u001b[0;34m.\u001b[0m\u001b[0mem\u001b[0m\u001b[0;34m.\u001b[0m\u001b[0mset_state\u001b[0m\u001b[0;34m(\u001b[0m\u001b[0mself\u001b[0m\u001b[0;34m.\u001b[0m\u001b[0minitial_state\u001b[0m\u001b[0;34m)\u001b[0m\u001b[0;34m\u001b[0m\u001b[0;34m\u001b[0m\u001b[0m\n\u001b[0m\u001b[1;32m    202\u001b[0m         \u001b[0;32mfor\u001b[0m \u001b[0mp\u001b[0m \u001b[0;32min\u001b[0m \u001b[0mrange\u001b[0m\u001b[0;34m(\u001b[0m\u001b[0mself\u001b[0m\u001b[0;34m.\u001b[0m\u001b[0mplayers\u001b[0m\u001b[0;34m)\u001b[0m\u001b[0;34m:\u001b[0m\u001b[0;34m\u001b[0m\u001b[0;34m\u001b[0m\u001b[0m\n\u001b[1;32m    203\u001b[0m             \u001b[0mself\u001b[0m\u001b[0;34m.\u001b[0m\u001b[0mem\u001b[0m\u001b[0;34m.\u001b[0m\u001b[0mset_button_mask\u001b[0m\u001b[0;34m(\u001b[0m\u001b[0mnp\u001b[0m\u001b[0;34m.\u001b[0m\u001b[0mzeros\u001b[0m\u001b[0;34m(\u001b[0m\u001b[0;34m[\u001b[0m\u001b[0mself\u001b[0m\u001b[0;34m.\u001b[0m\u001b[0mnum_buttons\u001b[0m\u001b[0;34m]\u001b[0m\u001b[0;34m,\u001b[0m \u001b[0mnp\u001b[0m\u001b[0;34m.\u001b[0m\u001b[0muint8\u001b[0m\u001b[0;34m)\u001b[0m\u001b[0;34m,\u001b[0m \u001b[0mp\u001b[0m\u001b[0;34m)\u001b[0m\u001b[0;34m\u001b[0m\u001b[0;34m\u001b[0m\u001b[0m\n",
      "\u001b[0;31mAttributeError\u001b[0m: 'RetroEnv' object has no attribute 'em'"
     ]
    }
   ],
   "source": [
    "with tf.Session() as sess:\n",
    "    total_test_rewards = []\n",
    "    \n",
    "    # Load the model\n",
    "    saver.restore(sess, \"./models/model.ckpt\")\n",
    "    \n",
    "    for episode in range(1):\n",
    "        total_rewards = 0\n",
    "        \n",
    "        state = spaceinvaders.env.reset()\n",
    "        state = spaceinvaders.stack_frame(state, True)\n",
    "        \n",
    "        print(\"****************************************************\")\n",
    "        print(\"EPISODE \", episode)\n",
    "        \n",
    "        while True:\n",
    "            # Reshape the state\n",
    "            state = state.reshape((1, *spaceinvaders.hyperparameters['state_size']))\n",
    "            # Get action from Q-network \n",
    "            # Estimate the Qs values state\n",
    "            Qs = sess.run(dqnn.output, feed_dict = {dqnn._inputs: state})\n",
    "            \n",
    "            # Take the biggest Q value (= the best action)\n",
    "            choice = np.argmax(Qs)\n",
    "            action = spaceinvaders.hot_enc_actions[choice]\n",
    "            \n",
    "            #Perform the action and get the next_state, reward, and done information\n",
    "            next_state, reward, done, _ = spaceinvaders.env.step(action)\n",
    "#             env.render()\n",
    "            \n",
    "            total_rewards += reward\n",
    "\n",
    "            if done:\n",
    "                print (\"Score\", total_rewards)\n",
    "                total_test_rewards.append(total_rewards)\n",
    "                break\n",
    "                \n",
    "                \n",
    "            next_state = spaceinvaders.stack_frame(next_state, False)\n",
    "            state = next_state\n",
    "            \n",
    "    spaceinvaders.env.close()\n"
   ]
  },
  {
   "cell_type": "code",
   "execution_count": 0,
   "metadata": {
    "colab": {},
    "colab_type": "code",
    "id": "h-nGZkeKIC3k"
   },
   "outputs": [],
   "source": []
  }
 ],
 "metadata": {
  "accelerator": "GPU",
  "colab": {
   "include_colab_link": true,
   "name": "DQN-SpaceInvaders.ipynb",
   "provenance": [],
   "version": "0.3.2"
  },
  "kernelspec": {
   "display_name": "Python 3",
   "language": "python",
   "name": "python3"
  },
  "language_info": {
   "codemirror_mode": {
    "name": "ipython",
    "version": 3
   },
   "file_extension": ".py",
   "mimetype": "text/x-python",
   "name": "python",
   "nbconvert_exporter": "python",
   "pygments_lexer": "ipython3",
   "version": "3.6.7"
  }
 },
 "nbformat": 4,
 "nbformat_minor": 1
}
