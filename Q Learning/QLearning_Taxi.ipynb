{
  "nbformat": 4,
  "nbformat_minor": 0,
  "metadata": {
    "colab": {
      "name": "QLearning_Taxi.ipynb",
      "version": "0.3.2",
      "provenance": [],
      "collapsed_sections": []
    },
    "kernelspec": {
      "name": "python3",
      "display_name": "Python 3"
    }
  },
  "cells": [
    {
      "metadata": {
        "id": "ABaiJdJFD8nf",
        "colab_type": "code",
        "colab": {}
      },
      "cell_type": "code",
      "source": [
        "import numpy as np \n",
        "import gym\n",
        "import random"
      ],
      "execution_count": 0,
      "outputs": []
    },
    {
      "metadata": {
        "id": "xAsbpct8EEJA",
        "colab_type": "code",
        "colab": {
          "base_uri": "https://localhost:8080/",
          "height": 221
        },
        "outputId": "9e1e028e-fdf5-4e86-e561-755e5d1c757e"
      },
      "cell_type": "code",
      "source": [
        "env = gym.make('Taxi-v2')\n",
        "env.render()"
      ],
      "execution_count": 5,
      "outputs": [
        {
          "output_type": "stream",
          "text": [
            "+---------+\n",
            "|R: | : :\u001b[35mG\u001b[0m|\n",
            "| : : : : |\n",
            "| :\u001b[43m \u001b[0m: : : |\n",
            "| | : | : |\n",
            "|\u001b[34;1mY\u001b[0m| : |B: |\n",
            "+---------+\n",
            "\n"
          ],
          "name": "stdout"
        },
        {
          "output_type": "stream",
          "text": [
            "/usr/local/lib/python3.6/dist-packages/gym/envs/registration.py:14: PkgResourcesDeprecationWarning: Parameters to load are deprecated.  Call .resolve and .require separately.\n",
            "  result = entry_point.load(False)\n"
          ],
          "name": "stderr"
        }
      ]
    },
    {
      "metadata": {
        "id": "UwfrTK3aEMdM",
        "colab_type": "code",
        "colab": {
          "base_uri": "https://localhost:8080/",
          "height": 54
        },
        "outputId": "d28b056c-8e41-4679-ef9e-a32cab91fd56"
      },
      "cell_type": "code",
      "source": [
        "action_size = env.action_space.n\n",
        "print('number of possible actions is: {}'.format(action_size))\n",
        "state_size = env.observation_space.n\n",
        "print('number of possible states is: {}'.format(state_size))"
      ],
      "execution_count": 12,
      "outputs": [
        {
          "output_type": "stream",
          "text": [
            "number of possible actions is: 6\n",
            "number of possible states is: 500\n"
          ],
          "name": "stdout"
        }
      ]
    },
    {
      "metadata": {
        "id": "tyad71akEOdT",
        "colab_type": "code",
        "colab": {
          "base_uri": "https://localhost:8080/",
          "height": 164
        },
        "outputId": "f0d6a9dd-1948-4a25-aaaa-11d5d5c016de"
      },
      "cell_type": "code",
      "source": [
        "qtable = np.zeros((state_size,action_size))\n",
        "print('Current Q Table:')\n",
        "print(qtable)"
      ],
      "execution_count": 14,
      "outputs": [
        {
          "output_type": "stream",
          "text": [
            "Current Q Table:\n",
            "[[0. 0. 0. 0. 0. 0.]\n",
            " [0. 0. 0. 0. 0. 0.]\n",
            " [0. 0. 0. 0. 0. 0.]\n",
            " ...\n",
            " [0. 0. 0. 0. 0. 0.]\n",
            " [0. 0. 0. 0. 0. 0.]\n",
            " [0. 0. 0. 0. 0. 0.]]\n"
          ],
          "name": "stdout"
        }
      ]
    },
    {
      "metadata": {
        "id": "5mYaBpkJE89M",
        "colab_type": "code",
        "colab": {}
      },
      "cell_type": "code",
      "source": [
        "total_episodes = 50000        # Total episodes\n",
        "total_test_episodes = 100     # Total test episodes\n",
        "max_steps = 99                # Max steps per episode\n",
        "\n",
        "learning_rate = 0.7           # Learning rate\n",
        "gamma = 0.618                 # Discounting rate\n",
        "\n",
        "# Exploration parameters\n",
        "epsilon = 1.0                 # Exploration rate\n",
        "max_epsilon = 1.0             # Exploration probability at start\n",
        "min_epsilon = 0.01            # Minimum exploration probability \n",
        "decay_rate = 0.01          "
      ],
      "execution_count": 0,
      "outputs": []
    },
    {
      "metadata": {
        "id": "mWBZKa8BGJfY",
        "colab_type": "code",
        "colab": {}
      },
      "cell_type": "code",
      "source": [
        "for episode in range(total_episodes):\n",
        "  state = env.reset()\n",
        "  step = 0\n",
        "  done = False \n",
        "  \n",
        "  for step in range(max_steps):\n",
        "    explore_exploit = random.uniform(0,1)\n",
        "    if explore_exploit > epsilon:\n",
        "      action = np.argmax(qtable[state,:])\n",
        "    else:\n",
        "      action = env.action_space.sample()\n",
        "    \n",
        "    new_s, reward, done, info = env.step(action)\n",
        "    \n",
        "    qtable[state,action] += learning_rate*(reward+gamma*np.max(qtable[new_s,:])-qtable[state,action])\n",
        "    state = new_s\n",
        "    \n",
        "    if done:\n",
        "      break\n",
        "  episode +=1\n",
        "  epsilon = min_epsilon + (max_epsilon-min_epsilon) * np.exp(-decay_rate*episode)"
      ],
      "execution_count": 0,
      "outputs": []
    },
    {
      "metadata": {
        "id": "38h2W7ADGtPE",
        "colab_type": "code",
        "colab": {
          "base_uri": "https://localhost:8080/",
          "height": 256
        },
        "outputId": "36033b8f-6473-41ae-ba6d-67a5228f0b74"
      },
      "cell_type": "code",
      "source": [
        "qtable"
      ],
      "execution_count": 19,
      "outputs": [
        {
          "output_type": "execute_result",
          "data": {
            "text/plain": [
              "array([[  0.        ,   0.        ,   0.        ,   0.        ,\n",
              "          0.        ,   0.        ],\n",
              "       [ -1.89494485,  -1.44814804,  -1.89494849,  -1.52595865,\n",
              "         -0.72512948, -10.44964736],\n",
              "       [ -0.72516057,   0.44459665,  -0.76861951,   0.44459614,\n",
              "          2.33782249,  -8.56289032],\n",
              "       ...,\n",
              "       [ -2.08151226,   5.39938776,  -2.13185905,  -2.07194581,\n",
              "         -9.1       ,  -9.7953664 ],\n",
              "       [ -2.49766782,  -1.44920753,  -2.50404421,  -2.47180639,\n",
              "        -11.2246066 ,  -7.        ],\n",
              "       [ 18.37384858,  10.35761079,  18.22348897,  31.35602094,\n",
              "          9.24535897,   9.37801224]])"
            ]
          },
          "metadata": {
            "tags": []
          },
          "execution_count": 19
        }
      ]
    },
    {
      "metadata": {
        "id": "ggkBFXGDQtyg",
        "colab_type": "code",
        "colab": {}
      },
      "cell_type": "code",
      "source": [
        ""
      ],
      "execution_count": 0,
      "outputs": []
    }
  ]
}